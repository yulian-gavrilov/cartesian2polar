{
 "cells": [
  {
   "cell_type": "code",
   "execution_count": 234,
   "id": "4e30fe27-87f0-43f5-b608-0722fb6aaf49",
   "metadata": {},
   "outputs": [],
   "source": [
    "# see: https://gis.stackexchange.com/questions/236615/translating-latitude-and-longitude-into-polar-coordinates-around-a-point\n",
    "# https://en.wikipedia.org/wiki/Azimuthal_equidistant_projection\n",
    "\n",
    "import math as m\n"
   ]
  },
  {
   "cell_type": "code",
   "execution_count": 403,
   "id": "aadf4cb5-0c8f-4a6b-90c1-daf431e68f8e",
   "metadata": {},
   "outputs": [],
   "source": [
    "def deg_min_sec(degrees = 0.0):\n",
    "    if type(degrees) != 'float':\n",
    "        try:\n",
    "            degrees = float(degrees)\n",
    "        except:\n",
    "            print ('\\nERROR: Could not convert %s to float.'.format(type(degrees)))\n",
    "            return 0\n",
    "    minutes = degrees%1.0*60\n",
    "    seconds = minutes%1.0*60\n",
    "    \n",
    "    print ('{}\\N{DEGREE SIGN} {}\\' {}\\\"'.format(int(m.floor(degrees)),int(m.floor(minutes)),seconds))\n",
    "    \n",
    "    return \n",
    "\n",
    "#print deg_min_sec(raw_input('How many degrees?: '))"
   ]
  },
  {
   "cell_type": "code",
   "execution_count": 404,
   "id": "f934f216-1a3d-4c01-9774-9bf64f76a42e",
   "metadata": {},
   "outputs": [],
   "source": [
    "lat_0, long_0 = 55.705323868978326, 13.19373132956645\n",
    "# lat, long = 55.70546107418762, 13.195093165163707 # around 80 deg\n",
    "# lat, long = 55.70454823438484, 13.194354181823963 # around 170 deg\n",
    "lat, long = 55.70508633200661, 13.19217702321533 # around 260 deg\n",
    "# lat, long = 55.70607602793138, 13.193359396558922 # around 350 deg"
   ]
  },
  {
   "cell_type": "code",
   "execution_count": 405,
   "id": "00f7d122-d030-4d54-bdf1-189150ee7a10",
   "metadata": {},
   "outputs": [
    {
     "name": "stdout",
     "output_type": "stream",
     "text": [
      "angle:  254.82537803653406 or 254° 49' 31.360931522622195\"\n"
     ]
    }
   ],
   "source": [
    "tan_rad = m.cos(m.radians(lat))*m.sin(m.radians(long-long_0))/(m.cos(m.radians(lat_0))*m.sin(m.radians(lat))-m.sin(m.radians(lat_0))*m.cos(m.radians(lat))*m.cos(m.radians(long-long_0)))\n",
    "atan_deg = m.degrees(m.atan(tan_rad))\n",
    "\n",
    "if (lat_0 -lat) > 0 and (long_0 - long) < 0:\n",
    "    atan_deg+=180\n",
    "elif (lat_0 -lat) > 0 and (long_0 - long) > 0:\n",
    "    atan_deg+=180\n",
    "elif (lat_0 -lat) < 0 and (long_0 - long) > 0:\n",
    "    atan_deg+=360\n",
    "\n",
    "print (\"angle: \",atan_deg, end = \" or \")\n",
    "# print(\"\")\n",
    "# print(\"   0-90º: positive, use as is\")\n",
    "# print(\" 90-180º: negative, add 180º\")\n",
    "# print(\"180-270º: positive, add 180º\")\n",
    "# print(\"   0-90º: negative, add 360º\")\n",
    "\n",
    "\n",
    "deg_min_sec(atan_deg)"
   ]
  },
  {
   "cell_type": "code",
   "execution_count": 406,
   "id": "a5a04c89-153d-4938-961c-504befab7c44",
   "metadata": {},
   "outputs": [
    {
     "name": "stdout",
     "output_type": "stream",
     "text": [
      "atan 4.33079313313424\n"
     ]
    }
   ],
   "source": [
    "import numpy as np\n",
    "tan_deg = np.cos(lat)*np.sin(long-long_0)/(np.cos(lat_0)*np.sin(lat)-np.sin(lat_0)*np.cos(lat)*np.cos(long-long_0))\n",
    "tan_rad = tan_deg*np.pi/180 \n",
    "#print(\"tan \",tan_deg,tan_rad)\n",
    "\n",
    "atan_deg = np.arctan(tan_rad)*180/np.pi\n",
    "print (\"atan\",atan_deg)\n"
   ]
  },
  {
   "cell_type": "code",
   "execution_count": null,
   "id": "72046db5-1d7d-44a4-bbfd-1e112e1f0f23",
   "metadata": {},
   "outputs": [],
   "source": [
    "m.tan(m.pi/2)\n",
    "m.atan(m.tan(m.pi/2))*180/m.pi # atan output is in radians"
   ]
  }
 ],
 "metadata": {
  "kernelspec": {
   "display_name": "Python 3",
   "language": "python",
   "name": "python3"
  },
  "language_info": {
   "codemirror_mode": {
    "name": "ipython",
    "version": 3
   },
   "file_extension": ".py",
   "mimetype": "text/x-python",
   "name": "python",
   "nbconvert_exporter": "python",
   "pygments_lexer": "ipython3",
   "version": "3.8.8"
  }
 },
 "nbformat": 4,
 "nbformat_minor": 5
}
